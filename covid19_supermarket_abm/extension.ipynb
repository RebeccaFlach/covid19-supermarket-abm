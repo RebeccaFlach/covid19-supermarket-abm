{
 "cells": [
  {
   "cell_type": "markdown",
   "metadata": {},
   "source": [
    "# Investigating COVID-19 Transmission in Supermarkets\n",
    "By: Rebecca Flach and Daniel Quinteros\n",
    "\n",
    "The following code extends the research conducted in [**Modeling COVID-19 transmission in supermarkets using an agent-based model**](https://www.semanticscholar.org/reader/17a2627fca7585df99f9d214831992a3756ed772) by Fabian Ying, Neave O’Clery. We adapt the model to simulate the same experiments within the dining hall of Olin College of Engineering."
   ]
  },
  {
   "cell_type": "code",
   "execution_count": 47,
   "metadata": {},
   "outputs": [
    {
     "name": "stdout",
     "output_type": "stream",
     "text": [
      "Requirement already satisfied: covid19-supermarket-abm in /home/daniel_quinteros/anaconda3/lib/python3.9/site-packages (0.0.5)\n",
      "Requirement already satisfied: numpy>=1.16.2 in /home/daniel_quinteros/anaconda3/lib/python3.9/site-packages (from covid19-supermarket-abm) (1.20.3)\n",
      "Requirement already satisfied: tqdm in /home/daniel_quinteros/anaconda3/lib/python3.9/site-packages (from covid19-supermarket-abm) (4.62.3)\n",
      "Requirement already satisfied: matplotlib>=3.1.0 in /home/daniel_quinteros/anaconda3/lib/python3.9/site-packages (from covid19-supermarket-abm) (3.4.3)\n",
      "Requirement already satisfied: pandas>=0.24.2 in /home/daniel_quinteros/anaconda3/lib/python3.9/site-packages (from covid19-supermarket-abm) (1.3.4)\n",
      "Requirement already satisfied: pyarrow>=0.16.0 in /home/daniel_quinteros/anaconda3/lib/python3.9/site-packages (from covid19-supermarket-abm) (15.0.2)\n",
      "Requirement already satisfied: simpy>=4.0.1 in /home/daniel_quinteros/anaconda3/lib/python3.9/site-packages (from covid19-supermarket-abm) (4.1.1)\n",
      "Requirement already satisfied: networkx>=2.5 in /home/daniel_quinteros/anaconda3/lib/python3.9/site-packages (from covid19-supermarket-abm) (2.6.3)\n",
      "Requirement already satisfied: cycler>=0.10 in /home/daniel_quinteros/anaconda3/lib/python3.9/site-packages (from matplotlib>=3.1.0->covid19-supermarket-abm) (0.10.0)\n",
      "Requirement already satisfied: pyparsing>=2.2.1 in /home/daniel_quinteros/anaconda3/lib/python3.9/site-packages (from matplotlib>=3.1.0->covid19-supermarket-abm) (3.0.4)\n",
      "Requirement already satisfied: pillow>=6.2.0 in /home/daniel_quinteros/anaconda3/lib/python3.9/site-packages (from matplotlib>=3.1.0->covid19-supermarket-abm) (8.4.0)\n",
      "Requirement already satisfied: kiwisolver>=1.0.1 in /home/daniel_quinteros/anaconda3/lib/python3.9/site-packages (from matplotlib>=3.1.0->covid19-supermarket-abm) (1.3.1)\n",
      "Requirement already satisfied: python-dateutil>=2.7 in /home/daniel_quinteros/anaconda3/lib/python3.9/site-packages (from matplotlib>=3.1.0->covid19-supermarket-abm) (2.8.2)\n",
      "Requirement already satisfied: six in /home/daniel_quinteros/anaconda3/lib/python3.9/site-packages (from cycler>=0.10->matplotlib>=3.1.0->covid19-supermarket-abm) (1.16.0)\n",
      "Requirement already satisfied: pytz>=2017.3 in /home/daniel_quinteros/anaconda3/lib/python3.9/site-packages (from pandas>=0.24.2->covid19-supermarket-abm) (2021.3)\n"
     ]
    }
   ],
   "source": [
    "!pip install covid19-supermarket-abm"
   ]
  },
  {
   "cell_type": "code",
   "execution_count": 48,
   "metadata": {},
   "outputs": [],
   "source": [
    "import networkx as nx\n",
    "import matplotlib.pyplot as plt\n",
    "import numpy as np\n",
    "from covid19_supermarket_abm.utils.load_example_data import load_example_store_graph\n",
    "from covid19_supermarket_abm.utils.create_synthetic_baskets import get_all_shortest_path_dicts\n",
    "from covid19_supermarket_abm.path_generators import get_path_generator\n",
    "from covid19_supermarket_abm.simulator import simulate_several_days\n",
    "from covid19_supermarket_abm.utils.create_store_network import create_store_network"
   ]
  },
  {
   "cell_type": "markdown",
   "metadata": {},
   "source": [
    "### Default Dining Hall Simulations\n",
    "\n",
    "Create and visualize the dining hall network where the simulations will occur"
   ]
  },
  {
   "cell_type": "code",
   "execution_count": 89,
   "metadata": {},
   "outputs": [
    {
     "data": {
      "image/png": "[encoded data removed]",
      "text/plain": [
       "<Figure size 432x288 with 1 Axes>"
      ]
     },
     "metadata": {},
     "output_type": "display_data"
    }
   ],
   "source": [
    "pos = {0: (5,5), 1: (5,4), 2: (5,3), 3: (5,2), 4:(5,1), 5:(4, 0), 6:(3, 0), 7:(2,0), 8:(1,0), 9:(1, 4), 10:(1, 3), 11:(1, 2), 12:(0,0)}\n",
    "edges = [(0,1), (0,9), (1,2), (2,3), (3, 4), (4,5), (5,6), (6,7), (7,8), (7,11), (8,11), (8,12), (9,10), (10, 11), (11,12)]\n",
    "dh_graph = create_store_network(pos=pos, edges=edges)\n",
    "\n",
    "# 0: Swipe In\n",
    "# 1 - 7: Entrees\n",
    "# 8: Soda Machine\n",
    "# 9 - 10: Chef's Table? I don't know what it's called\n",
    "# 11: Silverware\n",
    "# 12: Exit\n",
    " \n",
    "nx.draw_networkx(dh_graph, pos=pos, node_color=\"y\")"
   ]
  },
  {
   "cell_type": "markdown",
   "metadata": {},
   "source": [
    "Create a path generator which feeds our model with student paths"
   ]
  },
  {
   "cell_type": "code",
   "execution_count": 90,
   "metadata": {},
   "outputs": [],
   "source": [
    "entrance_nodes = [0]  # Swipe In\n",
    "till_nodes = [8, 11]  # Soda Machine, Silverware\n",
    "exit_nodes = [12]  # Exit\n",
    "item_nodes = [1, 2, 3, 4, 5, 6, 7, 9, 10] # Food\n",
    "mu = 0.07\n",
    "sigma = 0.76\n",
    "shortest_path_dict = get_all_shortest_path_dicts(dh_graph)\n",
    "synthetic_path_generator_args = [mu, sigma, entrance_nodes, till_nodes, exit_nodes, item_nodes, shortest_path_dict]\n",
    "path_generator_function, path_generator_args = get_path_generator(path_generation='synthetic',\n",
    "                                                           synthetic_path_generator_args=synthetic_path_generator_args)"
   ]
  },
  {
   "cell_type": "markdown",
   "metadata": {},
   "source": [
    "Simulate the dining hall operations under the default configuration parameters"
   ]
  },
  {
   "cell_type": "code",
   "execution_count": 51,
   "metadata": {},
   "outputs": [
    {
     "name": "stderr",
     "output_type": "stream",
     "text": [
      "100%|██████████| 1000/1000 [03:55<00:00,  4.24it/s]\n"
     ]
    }
   ],
   "source": [
    "config = {'arrival_rate': 2.55,  # Poisson rate at which students arrive\n",
    "           'traversal_time': 0.2,  # mean wait time per node\n",
    "           'num_hours_open': 10,  # dining hall opening hours\n",
    "           'infection_proportion': 0.0011,  # proportion of students that are infectious\n",
    "         }\n",
    "\n",
    "# Simulate several days and store results in default_sim_results\n",
    "num_days = 1000\n",
    "default_sim_results = simulate_several_days(config, dh_graph, path_generator_function, path_generator_args, num_iterations=num_days)"
   ]
  },
  {
   "cell_type": "markdown",
   "metadata": {},
   "source": [
    "Calculate the average number of daily infections based on the mean total exposure time"
   ]
  },
  {
   "cell_type": "code",
   "execution_count": 52,
   "metadata": {},
   "outputs": [
    {
     "name": "stdout",
     "output_type": "stream",
     "text": [
      "Mean Total Exposure Time:  2.97401576468685 \n",
      "Average # of Daily Infections:  4.193362228208459e-09\n"
     ]
    }
   ],
   "source": [
    "transmission_rate = 1.41 * pow(10, -9)\n",
    "default_infections = (default_sim_results[0]['total_exposure_time'].mean()) * transmission_rate\n",
    "\n",
    "print(\"Mean Total Exposure Time: \", default_sim_results[0]['total_exposure_time'].mean(), \"minutes\"\n",
    "      \"\\nAverage # of Daily Infections: \", default_infections)"
   ]
  },
  {
   "cell_type": "markdown",
   "metadata": {},
   "source": [
    "### Dining Hall Network Heatmap Visualization\n",
    "\n",
    "Based on mean exposure time in each zone. The color ranges from black to bright red. The brighter the red, the higher the average exposure time is in that zone."
   ]
  },
  {
   "cell_type": "code",
   "execution_count": 53,
   "metadata": {},
   "outputs": [
    {
     "data": {
      "image/png": "[encoded data removed]",
      "text/plain": [
       "<Figure size 432x288 with 1 Axes>"
      ]
     },
     "metadata": {},
     "output_type": "display_data"
    }
   ],
   "source": [
    "exposures = default_sim_results[2].mean(0)\n",
    "nx.draw_networkx(dh_graph, pos=pos, node_color=[(exposure, 0, 0) for exposure in exposures])"
   ]
  },
  {
   "cell_type": "markdown",
   "metadata": {},
   "source": [
    "## Covid Exposure Interventions"
   ]
  },
  {
   "cell_type": "markdown",
   "metadata": {},
   "source": [
    "### Restricting Maximum Number of Students in Dining Hall\n",
    "\n",
    "Perform a parameter sweep, varying the maximum dining hall capacity from 1 to 30 students."
   ]
  },
  {
   "cell_type": "code",
   "execution_count": 55,
   "metadata": {},
   "outputs": [
    {
     "name": "stderr",
     "output_type": "stream",
     "text": [
      "100%|██████████| 1000/1000 [01:25<00:00, 11.74it/s]\n",
      "100%|██████████| 1000/1000 [01:25<00:00, 11.75it/s]\n",
      "100%|██████████| 1000/1000 [02:14<00:00,  7.41it/s]\n",
      "100%|██████████| 1000/1000 [02:13<00:00,  7.47it/s]\n",
      "100%|██████████| 1000/1000 [03:06<00:00,  5.37it/s]\n",
      "100%|██████████| 1000/1000 [03:04<00:00,  5.43it/s]\n",
      "100%|██████████| 1000/1000 [03:30<00:00,  4.76it/s]\n",
      "100%|██████████| 1000/1000 [03:53<00:00,  4.28it/s]\n",
      "100%|██████████| 1000/1000 [04:03<00:00,  4.11it/s]\n",
      "100%|██████████| 1000/1000 [04:05<00:00,  4.07it/s]\n",
      "100%|██████████| 1000/1000 [04:05<00:00,  4.08it/s]\n",
      "100%|██████████| 1000/1000 [04:03<00:00,  4.11it/s]\n",
      "100%|██████████| 1000/1000 [04:06<00:00,  4.05it/s]\n",
      "100%|██████████| 1000/1000 [04:04<00:00,  4.09it/s]\n",
      "100%|██████████| 1000/1000 [04:06<00:00,  4.05it/s]\n",
      "100%|██████████| 1000/1000 [04:00<00:00,  4.16it/s]\n",
      "100%|██████████| 1000/1000 [03:58<00:00,  4.19it/s]\n",
      "100%|██████████| 1000/1000 [03:59<00:00,  4.18it/s]\n",
      "100%|██████████| 1000/1000 [04:07<00:00,  4.04it/s]\n",
      "100%|██████████| 1000/1000 [04:00<00:00,  4.16it/s]\n",
      "100%|██████████| 1000/1000 [03:58<00:00,  4.19it/s]\n",
      "100%|██████████| 1000/1000 [03:56<00:00,  4.23it/s]\n",
      "100%|██████████| 1000/1000 [04:00<00:00,  4.16it/s]\n",
      "100%|██████████| 1000/1000 [03:59<00:00,  4.18it/s]\n",
      "100%|██████████| 1000/1000 [04:08<00:00,  4.03it/s]\n",
      "100%|██████████| 1000/1000 [03:59<00:00,  4.17it/s]\n",
      "100%|██████████| 1000/1000 [03:59<00:00,  4.18it/s]\n",
      "100%|██████████| 1000/1000 [03:58<00:00,  4.20it/s]\n",
      "100%|██████████| 1000/1000 [03:58<00:00,  4.20it/s]\n",
      "100%|██████████| 1000/1000 [03:33<00:00,  4.69it/s]\n"
     ]
    }
   ],
   "source": [
    "max_capacity_infections = []\n",
    "\n",
    "config = {'arrival_rate': 2.55,  # Poisson rate at which students arrive\n",
    "           'traversal_time': 0.2,  # mean wait time per node\n",
    "           'num_hours_open': 10,  # dining hall opening hours\n",
    "           'infection_proportion': 0.0011,  # proportion of students that are infectious\n",
    "           'max_customers_in_store_per_sqm': 0,  # Maximum number of students per sqm (per zone) \n",
    "           'floorarea': 100  # Floor area (1 sqm per zone)\n",
    "          #  'max_customers_in_store' = max_customers_in_store_per_sqm * floorarea\n",
    "         }\n",
    "\n",
    "\n",
    "transmission_rate = 1.41 * pow(10, -9)\n",
    "max_capacities = np.linspace(0.01, 0.3, 30)\n",
    "for store_limit in max_capacities:\n",
    "    config['max_customers_in_store_per_sqm'] = store_limit\n",
    "    max_capacity_sim_results = simulate_several_days(config, dh_graph, path_generator_function, path_generator_args, num_iterations=1000,\n",
    "                                    use_parallel=False)\n",
    "    max_capacity_infections.append((max_capacity_sim_results[0]['total_exposure_time'].mean()) * transmission_rate)"
   ]
  },
  {
   "cell_type": "code",
   "execution_count": 56,
   "metadata": {},
   "outputs": [
    {
     "data": {
      "text/plain": [
       "Text(0.5, 1.0, 'Infections v. Max. Capacity')"
      ]
     },
     "execution_count": 56,
     "metadata": {},
     "output_type": "execute_result"
    },
    {
     "data": {
      "image/png": "[encoded data removed]",
      "text/plain": [
       "<Figure size 432x288 with 1 Axes>"
      ]
     },
     "metadata": {
      "needs_background": "light"
     },
     "output_type": "display_data"
    }
   ],
   "source": [
    "plt.plot(max_capacities * config['floorarea'], max_capacity_infections)\n",
    "plt.xlabel('Max. number of customers allowed in dining hall')\n",
    "plt.ylabel('Number of infections per day')\n",
    "plt.title('Infections v. Max. Capacity')"
   ]
  },
  {
   "cell_type": "markdown",
   "metadata": {},
   "source": [
    "### Varying Student Arrival Rate\n",
    "\n",
    "Perform a parameter sweep, varying the rate at which students enter the dining hall from 0 to 6 students/min."
   ]
  },
  {
   "cell_type": "code",
   "execution_count": 57,
   "metadata": {},
   "outputs": [
    {
     "name": "stderr",
     "output_type": "stream",
     "text": [
      "  0%|          | 0/1000 [00:00<?, ?it/s]/home/daniel_quinteros/anaconda3/lib/python3.9/random.py:619: RuntimeWarning: divide by zero encountered in double_scalars\n",
      "  return -_log(1.0 - self.random()) / lambd\n",
      "/home/daniel_quinteros/anaconda3/lib/python3.9/site-packages/numpy/core/fromnumeric.py:3419: RuntimeWarning: Mean of empty slice.\n",
      "  return _methods._mean(a, axis=axis, dtype=dtype,\n",
      "/home/daniel_quinteros/anaconda3/lib/python3.9/site-packages/numpy/core/_methods.py:188: RuntimeWarning: invalid value encountered in double_scalars\n",
      "  ret = ret.dtype.type(ret / rcount)\n",
      "100%|██████████| 1000/1000 [00:04<00:00, 226.92it/s]\n",
      "100%|██████████| 1000/1000 [00:31<00:00, 32.19it/s]\n",
      "100%|██████████| 1000/1000 [00:55<00:00, 17.86it/s]\n",
      "100%|██████████| 1000/1000 [01:20<00:00, 12.40it/s]\n",
      "100%|██████████| 1000/1000 [01:49<00:00,  9.11it/s]\n",
      "100%|██████████| 1000/1000 [02:07<00:00,  7.83it/s]\n",
      "100%|██████████| 1000/1000 [02:19<00:00,  7.16it/s]\n",
      "100%|██████████| 1000/1000 [02:39<00:00,  6.26it/s]\n",
      "100%|██████████| 1000/1000 [03:04<00:00,  5.43it/s]\n",
      "100%|██████████| 1000/1000 [03:24<00:00,  4.89it/s]\n",
      "100%|██████████| 1000/1000 [03:49<00:00,  4.35it/s]\n",
      "100%|██████████| 1000/1000 [04:36<00:00,  3.62it/s]\n",
      "100%|██████████| 1000/1000 [05:26<00:00,  3.06it/s]\n",
      "100%|██████████| 1000/1000 [06:21<00:00,  2.62it/s]\n",
      "100%|██████████| 1000/1000 [05:46<00:00,  2.89it/s]\n",
      "100%|██████████| 1000/1000 [06:20<00:00,  2.63it/s]\n",
      "100%|██████████| 1000/1000 [07:00<00:00,  2.38it/s]\n",
      "100%|██████████| 1000/1000 [06:31<00:00,  2.55it/s]\n",
      "100%|██████████| 1000/1000 [07:05<00:00,  2.35it/s]\n",
      "100%|██████████| 1000/1000 [06:58<00:00,  2.39it/s]\n",
      "100%|██████████| 1000/1000 [07:13<00:00,  2.31it/s]\n",
      "100%|██████████| 1000/1000 [07:39<00:00,  2.17it/s]\n",
      "100%|██████████| 1000/1000 [07:59<00:00,  2.09it/s]\n",
      "100%|██████████| 1000/1000 [08:24<00:00,  1.98it/s]\n",
      "100%|██████████| 1000/1000 [08:44<00:00,  1.91it/s]\n"
     ]
    }
   ],
   "source": [
    "arrival_rate_infections = []\n",
    "\n",
    "config = {'arrival_rate': 0,  # Poisson rate at which students arrive\n",
    "           'traversal_time': 0.2,  # mean wait time per node\n",
    "           'num_hours_open': 10,  # dining hall opening hours\n",
    "           'infection_proportion': 0.0011,  # proportion of students that are infectious\n",
    "         }\n",
    "\n",
    "transmission_rate = 1.41 * pow(10, -9)\n",
    "arrival_rates = np.linspace(0, 6, 25)\n",
    "for rate in arrival_rates:\n",
    "    config['arrival_rate'] = rate\n",
    "    arrival_rate_sim_results = simulate_several_days(config, dh_graph, path_generator_function, path_generator_args, num_iterations=1000,\n",
    "                                    use_parallel=False)\n",
    "    arrival_rate_infections.append((arrival_rate_sim_results[0]['total_exposure_time'].mean()) * transmission_rate)"
   ]
  },
  {
   "cell_type": "code",
   "execution_count": 58,
   "metadata": {},
   "outputs": [
    {
     "data": {
      "text/plain": [
       "Text(0.5, 1.0, 'Infections v. Student Arrival Rate')"
      ]
     },
     "execution_count": 58,
     "metadata": {},
     "output_type": "execute_result"
    },
    {
     "data": {
      "image/png": "[encoded data removed]",
      "text/plain": [
       "<Figure size 432x288 with 1 Axes>"
      ]
     },
     "metadata": {
      "needs_background": "light"
     },
     "output_type": "display_data"
    }
   ],
   "source": [
    "plt.plot(arrival_rates, arrival_rate_infections)\n",
    "plt.xlabel('Rate of student arrival (students/min)')\n",
    "plt.ylabel('Number of infections per day')\n",
    "plt.title('Infections v. Student Arrival Rate')"
   ]
  },
  {
   "cell_type": "markdown",
   "metadata": {},
   "source": [
    "### Face Masks\n",
    "\n",
    "Implementation of a fask mask policy via a reduction in the transmission rate."
   ]
  },
  {
   "cell_type": "code",
   "execution_count": 59,
   "metadata": {},
   "outputs": [
    {
     "name": "stderr",
     "output_type": "stream",
     "text": [
      "100%|██████████| 1000/1000 [00:36<00:00, 27.17it/s]\n"
     ]
    }
   ],
   "source": [
    "# Set parameters\n",
    "rrr = 0.17  # Relative transmission risk reduction\n",
    "\n",
    "config = {'arrival_rate': 2.55 * rrr,  # Poisson rate at which students arrive * rrr\n",
    "           'traversal_time': 0.2,  # mean wait time per node\n",
    "           'num_hours_open': 10,  # dining hall opening hours\n",
    "           'infection_proportion': 0.0011,  # proportion of students that are infectious\n",
    "         }\n",
    "\n",
    "# Simulate several days and store results in face_mask_sim_results\n",
    "num_days = 1000\n",
    "face_mask_sim_results = simulate_several_days(config, dh_graph, path_generator_function, path_generator_args, num_iterations=num_days,\n",
    "                                use_parallel=False)"
   ]
  },
  {
   "cell_type": "markdown",
   "metadata": {},
   "source": [
    "Calculate the average number of daily infections based on the mean total exposure time"
   ]
  },
  {
   "cell_type": "code",
   "execution_count": 60,
   "metadata": {},
   "outputs": [
    {
     "name": "stdout",
     "output_type": "stream",
     "text": [
      "Mean Total Exposure Time:  0.09093280015157845 \n",
      "Average # of Daily Infections:  1.2821524821372563e-10\n"
     ]
    }
   ],
   "source": [
    "transmission_rate = 1.41 * pow(10, -9)\n",
    "face_mask_infections = (face_mask_sim_results[0]['total_exposure_time'].mean()) * transmission_rate\n",
    "\n",
    "print(\"Mean Total Exposure Time: \", face_mask_sim_results[0]['total_exposure_time'].mean(), \n",
    "      \"\\nAverage # of Daily Infections: \", face_mask_infections)"
   ]
  }
 ],
 "metadata": {
  "kernelspec": {
   "display_name": "base",
   "language": "python",
   "name": "python3"
  },
  "language_info": {
   "codemirror_mode": {
    "name": "ipython",
    "version": 3
   },
   "file_extension": ".py",
   "mimetype": "text/x-python",
   "name": "python",
   "nbconvert_exporter": "python",
   "pygments_lexer": "ipython3",
   "version": "3.9.7"
  }
 },
 "nbformat": 4,
 "nbformat_minor": 2
}
